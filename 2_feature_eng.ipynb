{
 "cells": [
  {
   "cell_type": "markdown",
   "id": "bc1216ec",
   "metadata": {},
   "source": [
    "# Section 2: Feature Engineering"
   ]
  },
  {
   "cell_type": "markdown",
   "id": "e3839003",
   "metadata": {},
   "source": [
    "# 1. import dependencies"
   ]
  },
  {
   "cell_type": "code",
   "execution_count": 26,
   "id": "7c4183cf",
   "metadata": {},
   "outputs": [],
   "source": [
    "import numpy as np \n",
    "import pandas as pd \n",
    "import matplotlib.pyplot as plt\n",
    "import seaborn as sns "
   ]
  },
  {
   "cell_type": "markdown",
   "id": "a24c1d60",
   "metadata": {},
   "source": [
    "# 2. Load the Dataset"
   ]
  },
  {
   "cell_type": "code",
   "execution_count": 27,
   "id": "3bd128c4",
   "metadata": {},
   "outputs": [
    {
     "name": "stdout",
     "output_type": "stream",
     "text": [
      "(14999, 10)\n"
     ]
    },
    {
     "data": {
      "text/html": [
       "<div>\n",
       "<style scoped>\n",
       "    .dataframe tbody tr th:only-of-type {\n",
       "        vertical-align: middle;\n",
       "    }\n",
       "\n",
       "    .dataframe tbody tr th {\n",
       "        vertical-align: top;\n",
       "    }\n",
       "\n",
       "    .dataframe thead th {\n",
       "        text-align: right;\n",
       "    }\n",
       "</style>\n",
       "<table border=\"1\" class=\"dataframe\">\n",
       "  <thead>\n",
       "    <tr style=\"text-align: right;\">\n",
       "      <th></th>\n",
       "      <th>empid</th>\n",
       "      <th>satisfaction_level</th>\n",
       "      <th>last_evaluation</th>\n",
       "      <th>number_project</th>\n",
       "      <th>average_montly_hours</th>\n",
       "      <th>time_spend_company</th>\n",
       "      <th>Work_accident</th>\n",
       "      <th>promotion_last_5years</th>\n",
       "      <th>salary</th>\n",
       "      <th>left</th>\n",
       "    </tr>\n",
       "  </thead>\n",
       "  <tbody>\n",
       "    <tr>\n",
       "      <th>0</th>\n",
       "      <td>1</td>\n",
       "      <td>0.38</td>\n",
       "      <td>0.53</td>\n",
       "      <td>2</td>\n",
       "      <td>157</td>\n",
       "      <td>3</td>\n",
       "      <td>0</td>\n",
       "      <td>0</td>\n",
       "      <td>low</td>\n",
       "      <td>1</td>\n",
       "    </tr>\n",
       "    <tr>\n",
       "      <th>1</th>\n",
       "      <td>2</td>\n",
       "      <td>0.80</td>\n",
       "      <td>0.86</td>\n",
       "      <td>5</td>\n",
       "      <td>262</td>\n",
       "      <td>6</td>\n",
       "      <td>0</td>\n",
       "      <td>0</td>\n",
       "      <td>medium</td>\n",
       "      <td>1</td>\n",
       "    </tr>\n",
       "    <tr>\n",
       "      <th>2</th>\n",
       "      <td>3</td>\n",
       "      <td>0.11</td>\n",
       "      <td>0.88</td>\n",
       "      <td>7</td>\n",
       "      <td>272</td>\n",
       "      <td>4</td>\n",
       "      <td>0</td>\n",
       "      <td>0</td>\n",
       "      <td>medium</td>\n",
       "      <td>1</td>\n",
       "    </tr>\n",
       "    <tr>\n",
       "      <th>3</th>\n",
       "      <td>4</td>\n",
       "      <td>0.72</td>\n",
       "      <td>0.87</td>\n",
       "      <td>5</td>\n",
       "      <td>223</td>\n",
       "      <td>5</td>\n",
       "      <td>0</td>\n",
       "      <td>0</td>\n",
       "      <td>low</td>\n",
       "      <td>1</td>\n",
       "    </tr>\n",
       "    <tr>\n",
       "      <th>4</th>\n",
       "      <td>5</td>\n",
       "      <td>0.37</td>\n",
       "      <td>0.52</td>\n",
       "      <td>2</td>\n",
       "      <td>159</td>\n",
       "      <td>3</td>\n",
       "      <td>0</td>\n",
       "      <td>0</td>\n",
       "      <td>low</td>\n",
       "      <td>1</td>\n",
       "    </tr>\n",
       "  </tbody>\n",
       "</table>\n",
       "</div>"
      ],
      "text/plain": [
       "   empid  satisfaction_level  last_evaluation  number_project  \\\n",
       "0      1                0.38             0.53               2   \n",
       "1      2                0.80             0.86               5   \n",
       "2      3                0.11             0.88               7   \n",
       "3      4                0.72             0.87               5   \n",
       "4      5                0.37             0.52               2   \n",
       "\n",
       "   average_montly_hours  time_spend_company  Work_accident  \\\n",
       "0                   157                   3              0   \n",
       "1                   262                   6              0   \n",
       "2                   272                   4              0   \n",
       "3                   223                   5              0   \n",
       "4                   159                   3              0   \n",
       "\n",
       "   promotion_last_5years  salary  left  \n",
       "0                      0     low     1  \n",
       "1                      0  medium     1  \n",
       "2                      0  medium     1  \n",
       "3                      0     low     1  \n",
       "4                      0     low     1  "
      ]
     },
     "execution_count": 27,
     "metadata": {},
     "output_type": "execute_result"
    }
   ],
   "source": [
    "# create dataframe from the csv.\n",
    "df=pd.read_csv(\"hr_employee_churn_data.csv\")\n",
    "# creating a copy of the original dataframe\n",
    "dataset = df.copy()\n",
    "print(df.shape)\n",
    "df.head()"
   ]
  },
  {
   "cell_type": "code",
   "execution_count": 28,
   "id": "51a662d1",
   "metadata": {},
   "outputs": [
    {
     "name": "stdout",
     "output_type": "stream",
     "text": [
      "<class 'pandas.core.frame.DataFrame'>\n",
      "RangeIndex: 14999 entries, 0 to 14998\n",
      "Data columns (total 10 columns):\n",
      " #   Column                 Non-Null Count  Dtype  \n",
      "---  ------                 --------------  -----  \n",
      " 0   empid                  14999 non-null  int64  \n",
      " 1   satisfaction_level     14997 non-null  float64\n",
      " 2   last_evaluation        14999 non-null  float64\n",
      " 3   number_project         14999 non-null  int64  \n",
      " 4   average_montly_hours   14999 non-null  int64  \n",
      " 5   time_spend_company     14999 non-null  int64  \n",
      " 6   Work_accident          14999 non-null  int64  \n",
      " 7   promotion_last_5years  14999 non-null  int64  \n",
      " 8   salary                 14999 non-null  object \n",
      " 9   left                   14999 non-null  int64  \n",
      "dtypes: float64(2), int64(7), object(1)\n",
      "memory usage: 1.1+ MB\n",
      "None\n"
     ]
    }
   ],
   "source": [
    "print(dataset.info())"
   ]
  },
  {
   "cell_type": "markdown",
   "id": "004b42f7",
   "metadata": {},
   "source": [
    "# 3. Removing non-relevant columns"
   ]
  },
  {
   "cell_type": "code",
   "execution_count": 29,
   "id": "d9026def",
   "metadata": {},
   "outputs": [],
   "source": [
    "# we will drop empid since it not hold valuable data for predicting the 'left'\n",
    "dataset.drop(['empid'],axis=1, inplace=True) "
   ]
  },
  {
   "cell_type": "markdown",
   "id": "2c7b1ae5",
   "metadata": {},
   "source": [
    "# 4. Handeling categorical features\n",
    "\n",
    "based on the eda (phase 1) we looked and see that the categorical features are:\n",
    "\n",
    "    * 'left'  (actual targets) \n",
    "    * 'salary' - actual categorical\n",
    "    * 'promotion_last_5years'- allready one hot encoded 0||1\n",
    "    * 'Work_accident'- allready one hot encoded 0||1\n",
    "\n",
    "Since the only real categorical feature 'salary' and it have only 3 categories we use oneHot encoding.\n",
    "\n",
    "we will use get_dummies with flag drop_first=True to encode n categories to n-1 new features.\n",
    "- this is because we always want to avoid diamentionality curse."
   ]
  },
  {
   "cell_type": "code",
   "execution_count": 30,
   "id": "cd82d78b",
   "metadata": {},
   "outputs": [
    {
     "name": "stdout",
     "output_type": "stream",
     "text": [
      "dataset before oneHot_encode:  (14999, 9)\n",
      "dataset after oneHot_encode:  (14999, 10)\n"
     ]
    },
    {
     "data": {
      "text/html": [
       "<div>\n",
       "<style scoped>\n",
       "    .dataframe tbody tr th:only-of-type {\n",
       "        vertical-align: middle;\n",
       "    }\n",
       "\n",
       "    .dataframe tbody tr th {\n",
       "        vertical-align: top;\n",
       "    }\n",
       "\n",
       "    .dataframe thead th {\n",
       "        text-align: right;\n",
       "    }\n",
       "</style>\n",
       "<table border=\"1\" class=\"dataframe\">\n",
       "  <thead>\n",
       "    <tr style=\"text-align: right;\">\n",
       "      <th></th>\n",
       "      <th>satisfaction_level</th>\n",
       "      <th>last_evaluation</th>\n",
       "      <th>number_project</th>\n",
       "      <th>average_montly_hours</th>\n",
       "      <th>time_spend_company</th>\n",
       "      <th>Work_accident</th>\n",
       "      <th>promotion_last_5years</th>\n",
       "      <th>left</th>\n",
       "      <th>salary_low</th>\n",
       "      <th>salary_medium</th>\n",
       "    </tr>\n",
       "  </thead>\n",
       "  <tbody>\n",
       "    <tr>\n",
       "      <th>0</th>\n",
       "      <td>0.38</td>\n",
       "      <td>0.53</td>\n",
       "      <td>2</td>\n",
       "      <td>157</td>\n",
       "      <td>3</td>\n",
       "      <td>0</td>\n",
       "      <td>0</td>\n",
       "      <td>1</td>\n",
       "      <td>1</td>\n",
       "      <td>0</td>\n",
       "    </tr>\n",
       "    <tr>\n",
       "      <th>1</th>\n",
       "      <td>0.80</td>\n",
       "      <td>0.86</td>\n",
       "      <td>5</td>\n",
       "      <td>262</td>\n",
       "      <td>6</td>\n",
       "      <td>0</td>\n",
       "      <td>0</td>\n",
       "      <td>1</td>\n",
       "      <td>0</td>\n",
       "      <td>1</td>\n",
       "    </tr>\n",
       "  </tbody>\n",
       "</table>\n",
       "</div>"
      ],
      "text/plain": [
       "   satisfaction_level  last_evaluation  number_project  average_montly_hours  \\\n",
       "0                0.38             0.53               2                   157   \n",
       "1                0.80             0.86               5                   262   \n",
       "\n",
       "   time_spend_company  Work_accident  promotion_last_5years  left  salary_low  \\\n",
       "0                   3              0                      0     1           1   \n",
       "1                   6              0                      0     1           0   \n",
       "\n",
       "   salary_medium  \n",
       "0              0  \n",
       "1              1  "
      ]
     },
     "execution_count": 30,
     "metadata": {},
     "output_type": "execute_result"
    }
   ],
   "source": [
    "print(\"dataset before oneHot_encode: \",dataset.shape)\n",
    "\n",
    "dataset = pd.get_dummies(data=dataset, drop_first=True)\n",
    "print(\"dataset after oneHot_encode: \",dataset.shape)\n",
    "dataset.head(2)"
   ]
  },
  {
   "cell_type": "markdown",
   "id": "cf419ddb",
   "metadata": {},
   "source": [
    "# 5. Search & Resolve Nans values\n",
    "\n",
    "- first step we will explore which data is missing. \n",
    "- second step we will fill the Nans values with the appropriate way."
   ]
  },
  {
   "cell_type": "code",
   "execution_count": 31,
   "id": "21fb443e",
   "metadata": {},
   "outputs": [
    {
     "data": {
      "text/plain": [
       "satisfaction_level       2\n",
       "last_evaluation          0\n",
       "number_project           0\n",
       "average_montly_hours     0\n",
       "time_spend_company       0\n",
       "Work_accident            0\n",
       "promotion_last_5years    0\n",
       "left                     0\n",
       "salary_low               0\n",
       "salary_medium            0\n",
       "dtype: int64"
      ]
     },
     "execution_count": 31,
     "metadata": {},
     "output_type": "execute_result"
    }
   ],
   "source": [
    "# listing the number of missing values in each feature.(and target.)\n",
    "dataset.isnull().sum()"
   ]
  },
  {
   "cell_type": "markdown",
   "id": "ff4784eb",
   "metadata": {},
   "source": [
    "As we can see only satisfaction_level (which is numerical feature) contains missing data.\n",
    "\n",
    "we will explore this feature: "
   ]
  },
  {
   "cell_type": "code",
   "execution_count": 32,
   "id": "43d7f117",
   "metadata": {},
   "outputs": [
    {
     "data": {
      "text/plain": [
       "count    14997.000000\n",
       "mean         0.612863\n",
       "std          0.248634\n",
       "min          0.090000\n",
       "25%          0.440000\n",
       "50%          0.640000\n",
       "75%          0.820000\n",
       "max          1.000000\n",
       "Name: satisfaction_level, dtype: float64"
      ]
     },
     "execution_count": 32,
     "metadata": {},
     "output_type": "execute_result"
    }
   ],
   "source": [
    "dataset['satisfaction_level'].describe()"
   ]
  },
  {
   "cell_type": "markdown",
   "id": "0bef85be",
   "metadata": {},
   "source": [
    "## 5.1 explore different imputing stratagies:\n",
    "**There are different approaches for how handling missing values:**\n",
    "\n",
    "\n",
    "* univariant approach (only looking at it oun values)\n",
    "    - mean\n",
    "    - mode\n",
    "    - median\n",
    "    \n",
    "* multivariant approach (taking multiple features into account)\n",
    "    - knn imputer \n",
    "        1. finds the k most similar rows to the one where our missing value is. \n",
    "        2. fill the Nan value with the average value between the k similar labels.\n",
    "    - iterative imputer \n",
    "         1. build regression model where X is all rows in which we dont have missing values on the targets (y)\n",
    "             * we can select the regression model.\n",
    "         2. evaluate the model using y which is the feature we try to predict our Nans value.\n",
    "         3. replace the Nans with the predicted values.\n",
    "           "
   ]
  },
  {
   "cell_type": "code",
   "execution_count": 33,
   "id": "40f2a30d",
   "metadata": {},
   "outputs": [
    {
     "data": {
      "text/html": [
       "<div>\n",
       "<style scoped>\n",
       "    .dataframe tbody tr th:only-of-type {\n",
       "        vertical-align: middle;\n",
       "    }\n",
       "\n",
       "    .dataframe tbody tr th {\n",
       "        vertical-align: top;\n",
       "    }\n",
       "\n",
       "    .dataframe thead th {\n",
       "        text-align: right;\n",
       "    }\n",
       "</style>\n",
       "<table border=\"1\" class=\"dataframe\">\n",
       "  <thead>\n",
       "    <tr style=\"text-align: right;\">\n",
       "      <th></th>\n",
       "      <th>satisfaction_level</th>\n",
       "      <th>last_evaluation</th>\n",
       "      <th>number_project</th>\n",
       "      <th>average_montly_hours</th>\n",
       "      <th>time_spend_company</th>\n",
       "      <th>Work_accident</th>\n",
       "      <th>promotion_last_5years</th>\n",
       "      <th>left</th>\n",
       "      <th>salary_low</th>\n",
       "      <th>salary_medium</th>\n",
       "    </tr>\n",
       "  </thead>\n",
       "  <tbody>\n",
       "    <tr>\n",
       "      <th>0</th>\n",
       "      <td>0.38</td>\n",
       "      <td>0.53</td>\n",
       "      <td>2</td>\n",
       "      <td>157</td>\n",
       "      <td>3</td>\n",
       "      <td>0</td>\n",
       "      <td>0</td>\n",
       "      <td>1</td>\n",
       "      <td>1</td>\n",
       "      <td>0</td>\n",
       "    </tr>\n",
       "    <tr>\n",
       "      <th>1</th>\n",
       "      <td>0.80</td>\n",
       "      <td>0.86</td>\n",
       "      <td>5</td>\n",
       "      <td>262</td>\n",
       "      <td>6</td>\n",
       "      <td>0</td>\n",
       "      <td>0</td>\n",
       "      <td>1</td>\n",
       "      <td>0</td>\n",
       "      <td>1</td>\n",
       "    </tr>\n",
       "  </tbody>\n",
       "</table>\n",
       "</div>"
      ],
      "text/plain": [
       "   satisfaction_level  last_evaluation  number_project  average_montly_hours  \\\n",
       "0                0.38             0.53               2                   157   \n",
       "1                0.80             0.86               5                   262   \n",
       "\n",
       "   time_spend_company  Work_accident  promotion_last_5years  left  salary_low  \\\n",
       "0                   3              0                      0     1           1   \n",
       "1                   6              0                      0     1           0   \n",
       "\n",
       "   salary_medium  \n",
       "0              0  \n",
       "1              1  "
      ]
     },
     "execution_count": 33,
     "metadata": {},
     "output_type": "execute_result"
    }
   ],
   "source": [
    "df_temp = dataset.copy()\n",
    "df_temp = pd.get_dummies(df_temp, prefix=None, prefix_sep='_', dummy_na=False, columns=None, sparse=False, dtype=None)\n",
    "df_temp.head(2)"
   ]
  },
  {
   "cell_type": "code",
   "execution_count": 34,
   "id": "02732c45",
   "metadata": {},
   "outputs": [],
   "source": [
    "df_null_list = dataset[df_temp['satisfaction_level'].isna()].index.tolist()\n",
    "\n",
    "def get_imputed_values(imputer_table):\n",
    "    global df_null_list\n",
    "    imputed_values = []\n",
    "    for ind in df_null_list:\n",
    "        imputed_values.append(imputer_table[ind][0])\n",
    "        print(f\"imputed value for row {ind} is {round(imputer_table[ind][0], 4)}\")\n",
    "    return imputed_values"
   ]
  },
  {
   "cell_type": "markdown",
   "id": "b2b5a28f",
   "metadata": {},
   "source": [
    "##### iterative imputer"
   ]
  },
  {
   "cell_type": "code",
   "execution_count": 35,
   "id": "e927b0f9",
   "metadata": {},
   "outputs": [],
   "source": [
    "# iterative imputer\n",
    "from sklearn.experimental import enable_iterative_imputer\n",
    "from sklearn.impute import IterativeImputer\n",
    "\n",
    "impute_it = IterativeImputer()\n",
    "impute_table_iter = impute_it.fit_transform(dataset)"
   ]
  },
  {
   "cell_type": "code",
   "execution_count": 36,
   "id": "21b4b1c3",
   "metadata": {},
   "outputs": [
    {
     "name": "stdout",
     "output_type": "stream",
     "text": [
      "imputed value for row 5 is 0.4572\n",
      "imputed value for row 15 is 0.465\n"
     ]
    }
   ],
   "source": [
    "imputed_values_iterative = get_imputed_values(impute_table_iter)"
   ]
  },
  {
   "cell_type": "markdown",
   "id": "aba2d9b2",
   "metadata": {},
   "source": [
    "##### knn imputer"
   ]
  },
  {
   "cell_type": "code",
   "execution_count": 37,
   "id": "08a1dcd1",
   "metadata": {},
   "outputs": [],
   "source": [
    "# knn imputer\n",
    "from sklearn.impute import KNNImputer\n",
    "\n",
    "impute_knn=KNNImputer(n_neighbors=3)\n",
    "impute_table_knn=impute_knn.fit_transform(dataset)"
   ]
  },
  {
   "cell_type": "code",
   "execution_count": 38,
   "id": "41b2706b",
   "metadata": {},
   "outputs": [
    {
     "name": "stdout",
     "output_type": "stream",
     "text": [
      "imputed value for row 5 is 0.4\n",
      "imputed value for row 15 is 0.3767\n"
     ]
    }
   ],
   "source": [
    "imputed_values_knn = get_imputed_values(impute_table_knn)"
   ]
  },
  {
   "cell_type": "markdown",
   "id": "3c8ba067",
   "metadata": {},
   "source": [
    "##### mean/mode imputer"
   ]
  },
  {
   "cell_type": "code",
   "execution_count": 39,
   "id": "3608825c",
   "metadata": {},
   "outputs": [
    {
     "name": "stdout",
     "output_type": "stream",
     "text": [
      "mean 0.6128625725145038\n",
      "mode 0.64\n"
     ]
    }
   ],
   "source": [
    "mean=dataset['satisfaction_level'].mean()\n",
    "median=dataset['satisfaction_level'].median()\n",
    "print(f'mean {mean}\\nmode {median}')"
   ]
  },
  {
   "cell_type": "markdown",
   "id": "0556b604",
   "metadata": {},
   "source": [
    "#### conclusion: \n",
    "we will use the knn imputer for filling our missing values in satisfaction_level feature:"
   ]
  },
  {
   "cell_type": "code",
   "execution_count": 40,
   "id": "9244c22e",
   "metadata": {},
   "outputs": [],
   "source": [
    "dataset = pd.DataFrame(impute_table_knn, columns=df_temp.columns)"
   ]
  },
  {
   "cell_type": "code",
   "execution_count": 43,
   "id": "e90ecc11",
   "metadata": {},
   "outputs": [
    {
     "name": "stdout",
     "output_type": "stream",
     "text": [
      "We Imputed the Nans values succesfully!\n"
     ]
    },
    {
     "data": {
      "text/plain": [
       "satisfaction_level       0\n",
       "last_evaluation          0\n",
       "number_project           0\n",
       "average_montly_hours     0\n",
       "time_spend_company       0\n",
       "Work_accident            0\n",
       "promotion_last_5years    0\n",
       "left                     0\n",
       "salary_low               0\n",
       "salary_medium            0\n",
       "dtype: int64"
      ]
     },
     "execution_count": 43,
     "metadata": {},
     "output_type": "execute_result"
    }
   ],
   "source": [
    "print(\"We Imputed the Nans values succesfully!\")\n",
    "dataset.isnull().sum()"
   ]
  },
  {
   "cell_type": "markdown",
   "id": "2d0334ce",
   "metadata": {},
   "source": [
    "# 6. Save the ready to train dataset"
   ]
  },
  {
   "cell_type": "code",
   "execution_count": 45,
   "id": "651554e9",
   "metadata": {},
   "outputs": [],
   "source": [
    "dataset.to_csv(\"dataset.csv\",index=False)"
   ]
  }
 ],
 "metadata": {
  "kernelspec": {
   "display_name": "Python 3 (ipykernel)",
   "language": "python",
   "name": "python3"
  },
  "language_info": {
   "codemirror_mode": {
    "name": "ipython",
    "version": 3
   },
   "file_extension": ".py",
   "mimetype": "text/x-python",
   "name": "python",
   "nbconvert_exporter": "python",
   "pygments_lexer": "ipython3",
   "version": "3.9.13"
  }
 },
 "nbformat": 4,
 "nbformat_minor": 5
}
